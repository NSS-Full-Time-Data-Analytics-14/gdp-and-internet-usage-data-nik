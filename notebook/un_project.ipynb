{
 "cells": [
  {
   "cell_type": "markdown",
   "id": "1dea18d7-6d09-43f4-8a25-6e4daa776534",
   "metadata": {},
   "source": [
    "# An Exploration of UN Data (Gross Domestic Product and Internet Usage)"
   ]
  },
  {
   "cell_type": "code",
   "execution_count": null,
   "id": "36707e28-e4b3-4548-980f-6c75628970d0",
   "metadata": {},
   "outputs": [],
   "source": [
    "import pandas as pd\n",
    "import numpy as np\n",
    "import matplotlib as plt\n",
    "import seaborn as sns"
   ]
  },
  {
   "cell_type": "markdown",
   "id": "73b87a74-4a54-4844-be8f-f63c54c0b5b0",
   "metadata": {},
   "source": [
    "# 4. Using the pandas `read_csv()` method, read the GDP dataset into your notebook as a DataFrame called `gdp_df`. Take a look at the first few and last few rows to familiarize yourself with what is contained in this dataset."
   ]
  },
  {
   "cell_type": "code",
   "execution_count": null,
   "id": "f3db7f6f-36bb-49f9-8c41-5b869091fe53",
   "metadata": {
    "scrolled": true
   },
   "outputs": [],
   "source": [
    "gdp_df = pd.read_csv(r\"C:\\Users\\datan\\OneDrive\\Desktop\\NSS\\DDA14\\Python\\projects\\gdp-and-internet-usage-data-nik\\data\\gdp_percapita.csv\")\n",
    "\n",
    "gdp_df"
   ]
  },
  {
   "cell_type": "markdown",
   "id": "a5118fb5-eea3-4114-befb-55f4f915fd5c",
   "metadata": {},
   "source": [
    "# 5. How many rows and columns are in `gdp_df`? What are the data types of each column?"
   ]
  },
  {
   "cell_type": "code",
   "execution_count": null,
   "id": "325df6c5-4a8a-4c54-a847-2327e789918c",
   "metadata": {},
   "outputs": [],
   "source": [
    "gdp_df.shape"
   ]
  },
  {
   "cell_type": "code",
   "execution_count": null,
   "id": "95ad3046-9bf7-4875-9f36-6ab558f84689",
   "metadata": {
    "scrolled": true
   },
   "outputs": [],
   "source": [
    "gdp_df.dtypes"
   ]
  },
  {
   "cell_type": "markdown",
   "id": "22e6358b-5c33-4d0f-8547-61ba2379d670",
   "metadata": {},
   "source": [
    "# 6. Drop the `Value Footnotes` column and rename the remaining three to 'Country', 'Year', and 'GDP_Per_Capita'."
   ]
  },
  {
   "cell_type": "code",
   "execution_count": null,
   "id": "5254bfc8-7d0f-48aa-b56c-a80d71792c8c",
   "metadata": {
    "scrolled": true
   },
   "outputs": [],
   "source": [
    "gdp_df = gdp_df.drop(columns = ['Value Footnotes'])\n",
    "\n",
    "gdp_df = gdp_df.rename(columns = {'Country or Area': 'Country', 'Year': 'Year', 'Value': 'GDP_Per_Capita'})\n",
    "\n",
    "gdp_df"
   ]
  },
  {
   "cell_type": "markdown",
   "id": "c222b1c3-4c72-4f9b-afde-51227048277f",
   "metadata": {},
   "source": [
    "# 7. How many countries have data for all years? Which countries are missing many years of data? Look at the number of observations per year. What do you notice?"
   ]
  },
  {
   "cell_type": "markdown",
   "id": "39ae9176-85ac-47e5-9126-2f0f16725625",
   "metadata": {},
   "source": [
    "Find unique years"
   ]
  },
  {
   "cell_type": "code",
   "execution_count": null,
   "id": "e48456f7-012b-4d6c-bb6e-8972b5763cd0",
   "metadata": {
    "scrolled": true
   },
   "outputs": [],
   "source": [
    "years = gdp_df['Year'].unique()\n",
    "\n",
    "years"
   ]
  },
  {
   "cell_type": "markdown",
   "id": "8fc50d67-3fdd-4a12-b021-0bfe4052ce8e",
   "metadata": {},
   "source": [
    "Group by Country and Year and filter Countries having data for all years"
   ]
  },
  {
   "cell_type": "code",
   "execution_count": null,
   "id": "424c0295-cafd-419a-8707-96869b2a7ea0",
   "metadata": {},
   "outputs": [],
   "source": [
    "count_countried_with_all_years = "
   ]
  },
  {
   "cell_type": "markdown",
   "id": "3a1fbf46-76bf-4ae6-8dab-41118537fd36",
   "metadata": {},
   "source": [
    "Count countries with data for all years"
   ]
  },
  {
   "cell_type": "code",
   "execution_count": null,
   "id": "54addbaf-db5d-4c09-a7ad-eebc96a8e298",
   "metadata": {},
   "outputs": [],
   "source": [
    "count_countries_with_all_years = countries_with_all_years.sum()"
   ]
  },
  {
   "cell_type": "markdown",
   "id": "183f5f1e-e0c1-4f6b-9447-f6ae783a8541",
   "metadata": {},
   "source": [
    "Total null values in each column"
   ]
  },
  {
   "cell_type": "code",
   "execution_count": null,
   "id": "6e45cdb0-7b0f-4f2e-bb0d-fb72616c950b",
   "metadata": {},
   "outputs": [],
   "source": [
    "gdp_df.isnull().sum()"
   ]
  },
  {
   "cell_type": "code",
   "execution_count": null,
   "id": "dcbb82b4-1041-4a5c-8407-970f1c25d48d",
   "metadata": {},
   "outputs": [],
   "source": []
  },
  {
   "cell_type": "markdown",
   "id": "b9b3558c-3997-427b-9517-815b83467cdd",
   "metadata": {},
   "source": [
    "# 8. In this question, you're going to create some plots to show the distribution of GDP per capita for the year 2020. Create a histogram, a density plot, a boxplot, and a violin plot."
   ]
  },
  {
   "cell_type": "code",
   "execution_count": null,
   "id": "79e55a13-75fc-428e-8835-89b231b677fb",
   "metadata": {},
   "outputs": [],
   "source": []
  },
  {
   "cell_type": "markdown",
   "id": "ae811518-0f14-4619-aa0c-6c8501ced7d7",
   "metadata": {},
   "source": [
    "# 9. What was the median GDP per capita value in 2020?"
   ]
  },
  {
   "cell_type": "code",
   "execution_count": null,
   "id": "527845a9-8f99-4597-ba29-393fd34ec7d8",
   "metadata": {},
   "outputs": [],
   "source": []
  },
  {
   "cell_type": "markdown",
   "id": "af5697fa-d649-4bde-8ce6-cb050c8f6a4a",
   "metadata": {},
   "source": [
    "# 10. Create some visualizations to compare GDP per capita values for the years 1990, 2000, 2010, and 2020. Start by subsetting your data to just these 4 years into a new DataFrame named gdp_decades. Using this, create the following 4 plots:* A boxplo, A barplot, A scatterplot, and A scatterplot with a trendline overlaid.t\n"
   ]
  },
  {
   "cell_type": "code",
   "execution_count": null,
   "id": "7cb64b43-eb51-48a5-8389-df5b0677d75a",
   "metadata": {},
   "outputs": [],
   "source": []
  }
 ],
 "metadata": {
  "kernelspec": {
   "display_name": "Python 3 (ipykernel)",
   "language": "python",
   "name": "python3"
  },
  "language_info": {
   "codemirror_mode": {
    "name": "ipython",
    "version": 3
   },
   "file_extension": ".py",
   "mimetype": "text/x-python",
   "name": "python",
   "nbconvert_exporter": "python",
   "pygments_lexer": "ipython3",
   "version": "3.11.7"
  }
 },
 "nbformat": 4,
 "nbformat_minor": 5
}

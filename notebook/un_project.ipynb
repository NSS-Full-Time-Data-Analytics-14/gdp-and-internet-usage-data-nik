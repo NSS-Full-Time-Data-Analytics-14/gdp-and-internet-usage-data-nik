{
 "cells": [
  {
   "cell_type": "markdown",
   "id": "1dea18d7-6d09-43f4-8a25-6e4daa776534",
   "metadata": {},
   "source": [
    "# An Exploration of UN Data (Gross Domestic Product and Internet Usage)"
   ]
  },
  {
   "cell_type": "code",
   "execution_count": null,
   "id": "36707e28-e4b3-4548-980f-6c75628970d0",
   "metadata": {},
   "outputs": [],
   "source": [
    "import pandas as pd\n",
    "import numpy as np\n",
    "import matplotlib.pyplot as plt\n",
    "import seaborn as sns"
   ]
  },
  {
   "cell_type": "markdown",
   "id": "73b87a74-4a54-4844-be8f-f63c54c0b5b0",
   "metadata": {
    "jp-MarkdownHeadingCollapsed": true
   },
   "source": [
    "# 4. Using the pandas `read_csv()` method, read the GDP dataset into your notebook as a DataFrame called `gdp_df`. Take a look at the first few and last few rows to familiarize yourself with what is contained in this dataset."
   ]
  },
  {
   "cell_type": "code",
   "execution_count": null,
   "id": "f3db7f6f-36bb-49f9-8c41-5b869091fe53",
   "metadata": {
    "scrolled": true
   },
   "outputs": [],
   "source": [
    "gdp_df = pd.read_csv(r\"C:\\Users\\datan\\OneDrive\\Desktop\\NSS\\DDA14\\Python\\projects\\gdp-and-internet-usage-data-nik\\data\\gdp_percapita.csv\")\n",
    "\n",
    "gdp_df"
   ]
  },
  {
   "cell_type": "markdown",
   "id": "a5118fb5-eea3-4114-befb-55f4f915fd5c",
   "metadata": {
    "jp-MarkdownHeadingCollapsed": true
   },
   "source": [
    "# 5. How many rows and columns are in `gdp_df`? What are the data types of each column?"
   ]
  },
  {
   "cell_type": "code",
   "execution_count": null,
   "id": "325df6c5-4a8a-4c54-a847-2327e789918c",
   "metadata": {},
   "outputs": [],
   "source": [
    "gdp_df.shape"
   ]
  },
  {
   "cell_type": "code",
   "execution_count": null,
   "id": "95ad3046-9bf7-4875-9f36-6ab558f84689",
   "metadata": {
    "scrolled": true
   },
   "outputs": [],
   "source": [
    "gdp_df.dtypes"
   ]
  },
  {
   "cell_type": "markdown",
   "id": "22e6358b-5c33-4d0f-8547-61ba2379d670",
   "metadata": {
    "jp-MarkdownHeadingCollapsed": true
   },
   "source": [
    "# 6. Drop the `Value Footnotes` column and rename the remaining three to 'Country', 'Year', and 'GDP_Per_Capita'."
   ]
  },
  {
   "cell_type": "code",
   "execution_count": null,
   "id": "5254bfc8-7d0f-48aa-b56c-a80d71792c8c",
   "metadata": {
    "scrolled": true
   },
   "outputs": [],
   "source": [
    "gdp_df = gdp_df.drop(columns = ['Value Footnotes'])\n",
    "\n",
    "gdp_df = gdp_df.rename(columns = {'Country or Area': 'Country', 'Year': 'Year', 'Value': 'GDP_Per_Capita'})\n",
    "\n",
    "gdp_df"
   ]
  },
  {
   "cell_type": "markdown",
   "id": "c222b1c3-4c72-4f9b-afde-51227048277f",
   "metadata": {
    "jp-MarkdownHeadingCollapsed": true
   },
   "source": [
    "# 7. How many countries have data for all years? Which countries are missing many years of data? Look at the number of observations per year. What do you notice?"
   ]
  },
  {
   "cell_type": "markdown",
   "id": "39ae9176-85ac-47e5-9126-2f0f16725625",
   "metadata": {},
   "source": [
    "Find unique years and group by country and count unique years of data"
   ]
  },
  {
   "cell_type": "code",
   "execution_count": null,
   "id": "e48456f7-012b-4d6c-bb6e-8972b5763cd0",
   "metadata": {
    "scrolled": true
   },
   "outputs": [],
   "source": [
    "year_unique = gdp_df['Year'].unique()\n",
    "\n",
    "in_tha_country = gdp_df.groupby('Country')['Year'].nunique()\n",
    "\n",
    "in_tha_country"
   ]
  },
  {
   "cell_type": "markdown",
   "id": "014b7b4e-50ed-4ddd-b7df-d5c2b10f428b",
   "metadata": {},
   "source": [
    "Filter countries having data for all years"
   ]
  },
  {
   "cell_type": "code",
   "execution_count": null,
   "id": "f39a3919-fd66-46f6-97d0-c6cf088e8fea",
   "metadata": {
    "scrolled": true
   },
   "outputs": [],
   "source": [
    "countries_and_years = in_tha_country[in_tha_country == year_unique]\n",
    "\n",
    "countries_and_years # Work in Progress"
   ]
  },
  {
   "cell_type": "markdown",
   "id": "b9b3558c-3997-427b-9517-815b83467cdd",
   "metadata": {
    "jp-MarkdownHeadingCollapsed": true
   },
   "source": [
    "# 8. In this question, you're going to create some plots to show the distribution of GDP per capita for the year 2020. Create a histogram, a density plot, a boxplot, and a violin plot."
   ]
  },
  {
   "cell_type": "code",
   "execution_count": null,
   "id": "b6f55805-bc41-466a-917a-7ed3f1d0c570",
   "metadata": {
    "scrolled": true
   },
   "outputs": [],
   "source": [
    "gdp_2020 = gdp_df.loc[(gdp_df.Year == 2020)]\n",
    "\n",
    "gdp_2020"
   ]
  },
  {
   "cell_type": "markdown",
   "id": "2200c4bc-cf96-4187-b22e-7dc794eb3f72",
   "metadata": {},
   "source": [
    "Histogram"
   ]
  },
  {
   "cell_type": "code",
   "execution_count": null,
   "id": "c0d6c304-6cd5-42b1-9ddb-127d0bbf1662",
   "metadata": {
    "scrolled": true
   },
   "outputs": [],
   "source": [
    "plt.figure(figsize=(10, 6))\n",
    "sns.histplot(gdp_2020['GDP_Per_Capita'], bins=10)\n",
    "plt.title('Histogram of GDP per Capita for the Year 2020')\n",
    "plt.xlabel('GDP per Capita')\n",
    "plt.ylabel('Frequency')\n",
    "plt.show()"
   ]
  },
  {
   "cell_type": "code",
   "execution_count": null,
   "id": "406e958a-1286-4d40-b266-6badf4dcc571",
   "metadata": {},
   "outputs": [],
   "source": [
    "sns.histplot(x = gdp_2020['Year'], y = gdp_2020['GDP_Per_Capita'])\n",
    "plt.show()"
   ]
  },
  {
   "cell_type": "markdown",
   "id": "d8e8f59f-9b90-4302-9c7b-05d4928fde29",
   "metadata": {},
   "source": [
    "Density Plot"
   ]
  },
  {
   "cell_type": "code",
   "execution_count": null,
   "id": "dbd6a3d4-e902-4f79-b5d6-bd88f7a9f743",
   "metadata": {
    "scrolled": true
   },
   "outputs": [],
   "source": [
    "plt.figure(figsize=(10, 6))\n",
    "sns.kdeplot(gdp_2020['GDP_Per_Capita'], shade=True)\n",
    "plt.title('Density Plot of GDP per Capita for the Year 2020')\n",
    "plt.xlabel('GDP per Capita')\n",
    "plt.ylabel('Density')\n",
    "plt.show()"
   ]
  },
  {
   "cell_type": "markdown",
   "id": "feab825d-4b7b-4cc9-b250-9350bd1121ad",
   "metadata": {},
   "source": [
    "Boxplot"
   ]
  },
  {
   "cell_type": "code",
   "execution_count": null,
   "id": "1e4fa9ee-1869-473c-95f7-47801ff5b831",
   "metadata": {
    "scrolled": true
   },
   "outputs": [],
   "source": [
    "sns.boxplot(x = gdp_2020['Year'], y = gdp_2020['GDP_Per_Capita'])\n",
    "plt.show()"
   ]
  },
  {
   "cell_type": "markdown",
   "id": "4cd0e6ad-19df-458a-aa01-0fa8e1316a94",
   "metadata": {},
   "source": [
    "Violin Plot"
   ]
  },
  {
   "cell_type": "code",
   "execution_count": null,
   "id": "a07826bb-77cc-4f83-b6a9-44c561c10ab9",
   "metadata": {
    "scrolled": true
   },
   "outputs": [],
   "source": [
    "plt.figure(figsize=(10, 6))\n",
    "sns.violinplot(x=gdp_2020['GDP_Per_Capita'])\n",
    "plt.title('Violin Plot of GDP per Capita for the Year 2020')\n",
    "plt.xlabel('GDP per Capita')\n",
    "plt.show()"
   ]
  },
  {
   "cell_type": "code",
   "execution_count": null,
   "id": "9492c152-b056-4d48-80d2-caca43f298ad",
   "metadata": {
    "scrolled": true
   },
   "outputs": [],
   "source": [
    "sns.violinplot(x = gdp_2020['Year'], y = gdp_2020['GDP_Per_Capita'])\n",
    "plt.show()"
   ]
  },
  {
   "cell_type": "markdown",
   "id": "ae811518-0f14-4619-aa0c-6c8501ced7d7",
   "metadata": {
    "jp-MarkdownHeadingCollapsed": true
   },
   "source": [
    "# 9. What was the median GDP per capita value in 2020?"
   ]
  },
  {
   "cell_type": "code",
   "execution_count": null,
   "id": "527845a9-8f99-4597-ba29-393fd34ec7d8",
   "metadata": {},
   "outputs": [],
   "source": [
    "median_per_capita_2020 = gdp_2020['GDP_Per_Capita'].median()\n",
    "\n",
    "median_per_capita_2020"
   ]
  },
  {
   "cell_type": "markdown",
   "id": "af5697fa-d649-4bde-8ce6-cb050c8f6a4a",
   "metadata": {
    "jp-MarkdownHeadingCollapsed": true
   },
   "source": [
    "# 10. Create some visualizations to compare GDP per capita values for the years 1990, 2000, 2010, and 2020. Start by subsetting your data to just these 4 years into a new DataFrame named gdp_decades. Using this, create the following 4 plots:* A boxplo, A barplot, A scatterplot, and A scatterplot with a trendline overlaid.t\n"
   ]
  },
  {
   "cell_type": "code",
   "execution_count": null,
   "id": "7cb64b43-eb51-48a5-8389-df5b0677d75a",
   "metadata": {},
   "outputs": [],
   "source": [
    "gdp_decades = gdp_df.loc[(gdp_df.Year == 1990) | (gdp_df.Year == 2000) | (gdp_df.Year == 2010) | (gdp_df.Year == 2020)]"
   ]
  },
  {
   "cell_type": "markdown",
   "id": "e58c5af1-12fc-4581-b5cc-9472645b6705",
   "metadata": {},
   "source": [
    "Boxplot"
   ]
  },
  {
   "cell_type": "code",
   "execution_count": null,
   "id": "4d3ed43a-7aa2-464a-bc40-a5e540664ee4",
   "metadata": {
    "scrolled": true
   },
   "outputs": [],
   "source": [
    "plt.figure(figsize=(10, 6))\n",
    "plt.boxplot(gdp_decades['GDP_Per_Capita'])\n",
    "plt.title('GDP per capita values')\n",
    "plt.ylabel('GDP_Per_Capita')\n",
    "plt.xticks([1], ['Year']);"
   ]
  },
  {
   "cell_type": "code",
   "execution_count": null,
   "id": "1710a630-4f19-4543-bd4c-e4abdae2b4c7",
   "metadata": {
    "scrolled": true
   },
   "outputs": [],
   "source": [
    "sns.boxplot(x = gdp_decades['Year'], y = gdp_2020['GDP_Per_Capita'])\n",
    "plt.show()"
   ]
  },
  {
   "cell_type": "markdown",
   "id": "b1e27bc2-685c-4cf7-b0de-0989b8ee098f",
   "metadata": {},
   "source": [
    "Barplot"
   ]
  },
  {
   "cell_type": "code",
   "execution_count": null,
   "id": "eb0a4910-efb2-49c1-b252-36c110f7d227",
   "metadata": {
    "scrolled": true
   },
   "outputs": [],
   "source": [
    "plt.figure(figsize=(10, 6))\n",
    "plt.bar(gdp_decades['Year'], gdp_decades['GDP_Per_Capita'])\n",
    "plt.title('GDP per capita values')\n",
    "plt.xlabel('Year')\n",
    "plt.ylabel('GDP');"
   ]
  },
  {
   "cell_type": "markdown",
   "id": "aab2b701-000f-47d4-a1d3-67a099ec854c",
   "metadata": {},
   "source": [
    "Scatterplot"
   ]
  },
  {
   "cell_type": "code",
   "execution_count": null,
   "id": "09466c47-0857-4ada-9144-f197929e8aaa",
   "metadata": {
    "scrolled": true
   },
   "outputs": [],
   "source": [
    "plt.figure(figsize=(10, 6))\n",
    "plt.scatter(gdp_decades['Year'], gdp_decades['GDP_Per_Capita'])\n",
    "plt.title('GDP per capita values')\n",
    "plt.xlabel('Year')\n",
    "plt.ylabel('GDP');"
   ]
  },
  {
   "cell_type": "markdown",
   "id": "1fc290b6-256c-4ca3-a856-fa2e5cea1609",
   "metadata": {},
   "source": [
    "Scatterplot with trendline"
   ]
  },
  {
   "cell_type": "code",
   "execution_count": null,
   "id": "ac003721-5126-4b57-989a-fbb25cfa95c5",
   "metadata": {
    "scrolled": true
   },
   "outputs": [],
   "source": [
    "plt.figure(figsize=(10, 6))\n",
    "sns.regplot(x='Year', y='GDP_Per_Capita', data=gdp_decades, ci=None)\n",
    "plt.title('GDP per capita values')\n",
    "plt.xlabel('Year')\n",
    "plt.ylabel('GDP');"
   ]
  },
  {
   "cell_type": "markdown",
   "id": "37e1d665-2925-403b-b666-c9ee1504575b",
   "metadata": {
    "jp-MarkdownHeadingCollapsed": true
   },
   "source": [
    "# 11. Which country was the first to have a GDP per capita greater than $100,000?"
   ]
  },
  {
   "cell_type": "markdown",
   "id": "36ae0844-d8e5-4c07-8a25-8912f649c220",
   "metadata": {},
   "source": [
    " Filter rows with FGP per capita greater than $100,000"
   ]
  },
  {
   "cell_type": "code",
   "execution_count": null,
   "id": "e590f6d3-3243-43c9-870d-33c1b4ac86cd",
   "metadata": {},
   "outputs": [],
   "source": [
    "one_hundred_k = gdp_df[gdp_df['GDP_Per_Capita'] > 100000]"
   ]
  },
  {
   "cell_type": "markdown",
   "id": "50bfbc50-23ce-4a9b-b210-66cb80c073ea",
   "metadata": {},
   "source": [
    "Sort by year in ascending order"
   ]
  },
  {
   "cell_type": "code",
   "execution_count": null,
   "id": "ab02caef-80d6-46f7-b074-29869bbb5749",
   "metadata": {
    "scrolled": true
   },
   "outputs": [],
   "source": [
    "get_sorted = one_hundred_k.sort_values(by='Year')\n",
    "\n",
    "get_sorted"
   ]
  },
  {
   "cell_type": "markdown",
   "id": "baa29a2e-f120-43bf-b68c-901a13d12751",
   "metadata": {
    "jp-MarkdownHeadingCollapsed": true
   },
   "source": [
    "# 12. Which country had the highest GDP per capita in 2020? Create a plot showing how this country's GDP per capita has changed over the timespan of the dataset."
   ]
  },
  {
   "cell_type": "code",
   "execution_count": null,
   "id": "54e273c7-23e0-4947-b962-f84e2319f966",
   "metadata": {},
   "outputs": [],
   "source": [
    "big_gdp = gdp_2020.loc[gdp_2020['GDP_Per_Capita'].idxmax()] \n",
    "\n",
    "big_gdp"
   ]
  },
  {
   "cell_type": "code",
   "execution_count": null,
   "id": "f5bd6eba-527c-4c81-b047-d4c424e4e945",
   "metadata": {},
   "outputs": [],
   "source": [
    "country_name = big_gdp['Country']\n",
    "\n",
    "country_data = gdp_df[gdp_df['Country'] == country_name]"
   ]
  },
  {
   "cell_type": "code",
   "execution_count": null,
   "id": "bb14d62f-213a-42f6-8a1f-d05e9b70b555",
   "metadata": {},
   "outputs": [],
   "source": [
    "plt.figure(figsize=(10, 6))\n",
    "plt.plot(country_data['Year'], country_data['GDP_Per_Capita'], marker='o')\n",
    "plt.title(f'GDP per Capita Over Time for {country_name}')\n",
    "plt.xlabel('Year')\n",
    "plt.ylabel('GDP per Capita')\n",
    "plt.grid(True);"
   ]
  },
  {
   "cell_type": "markdown",
   "id": "cc3dbbd7-426c-4824-9f69-2a35269d7782",
   "metadata": {
    "jp-MarkdownHeadingCollapsed": true
   },
   "source": [
    "# 13. Which country had the lowest GDP per capita in 2020? Create a plot showing how this country's GDP per capita has changed over the timespan of the dataset."
   ]
  },
  {
   "cell_type": "code",
   "execution_count": null,
   "id": "e06c0d5e-3b28-4112-8af1-0e857411645c",
   "metadata": {},
   "outputs": [],
   "source": [
    "little_gdp = gdp_2020.loc[gdp_2020['GDP_Per_Capita'].idxmin()] "
   ]
  },
  {
   "cell_type": "code",
   "execution_count": null,
   "id": "a74fbcc2-3848-4ef7-9faa-7f4bd4403a03",
   "metadata": {},
   "outputs": [],
   "source": [
    "country_name = little_gdp['Country']\n",
    "\n",
    "country_data = gdp_df[gdp_df['Country'] == country_name]"
   ]
  },
  {
   "cell_type": "code",
   "execution_count": null,
   "id": "97a8416f-e4a6-4dd4-9ab8-208e6f70e001",
   "metadata": {},
   "outputs": [],
   "source": [
    "plt.figure(figsize=(10, 6))\n",
    "plt.plot(country_data['Year'], country_data['GDP_Per_Capita'], marker='o')\n",
    "plt.title(f'GDP per Capita Over Time for {country_name}')\n",
    "plt.xlabel('Year')\n",
    "plt.ylabel('GDP per Capita')\n",
    "plt.grid(True);"
   ]
  },
  {
   "cell_type": "markdown",
   "id": "fd37e2bb-efb5-4bab-98d4-39ebe3f90d3f",
   "metadata": {},
   "source": [
    "#  **Bonus question:** Is it true in general that coutries had a higher GDP per capita in 2020 than in 1990? Which countries had lower GDP per capita in 2020 than in 1990?"
   ]
  },
  {
   "cell_type": "code",
   "execution_count": null,
   "id": "bffce5e4-fba7-43ff-9b14-6b8390be2986",
   "metadata": {},
   "outputs": [],
   "source": [
    "# Coming back to this later! "
   ]
  },
  {
   "cell_type": "markdown",
   "id": "7f2bed85-36b0-4be0-b0d5-1c7549a4c1eb",
   "metadata": {
    "jp-MarkdownHeadingCollapsed": true
   },
   "source": [
    "# 14. Read in the internet use dataset into a DataFrame named `internet_df`."
   ]
  },
  {
   "cell_type": "code",
   "execution_count": null,
   "id": "e41b4a15-3ba0-4080-b7d2-bd6a94950dfc",
   "metadata": {},
   "outputs": [],
   "source": [
    "internet_df = pd.read_csv(r\"C:\\Users\\datan\\OneDrive\\Desktop\\NSS\\DDA14\\Python\\projects\\gdp-and-internet-usage-data-nik\\data\\internet_use.csv\")\n",
    "\n",
    "internet_df.head(10)"
   ]
  },
  {
   "cell_type": "code",
   "execution_count": null,
   "id": "1f3f16e3-bdc0-422b-b845-b0439520431e",
   "metadata": {},
   "outputs": [],
   "source": [
    "internet_df.dtypes"
   ]
  },
  {
   "cell_type": "markdown",
   "id": "65d6b3e9-46dd-4dec-b82d-d069e6b50ea9",
   "metadata": {
    "jp-MarkdownHeadingCollapsed": true
   },
   "source": [
    "# 15. Drop the `Value Footnotes` column and rename the remaining three to 'Country', 'Year', and 'Internet_Users_Pct'."
   ]
  },
  {
   "cell_type": "code",
   "execution_count": null,
   "id": "7257d091-81cf-4b2a-99fd-7a996099368a",
   "metadata": {},
   "outputs": [],
   "source": [
    "internet_df = internet_df.drop(columns = ['Value Footnotes'])\n",
    "\n",
    "internet_df = internet_df.rename(columns = {'Country or Area': 'Country', 'Year': 'Year', 'Value': 'Internet_Users_Pct'})\n",
    "\n",
    "internet_df"
   ]
  },
  {
   "cell_type": "markdown",
   "id": "bdf0a661-1a71-48a1-9582-c47251118129",
   "metadata": {
    "jp-MarkdownHeadingCollapsed": true
   },
   "source": [
    "# 16. Look at the number of observations in this dataset per year. What do you notice?"
   ]
  },
  {
   "cell_type": "code",
   "execution_count": null,
   "id": "a3f07252-b77b-4f9c-b7fb-c575babd5e0f",
   "metadata": {},
   "outputs": [],
   "source": [
    "year_observation = internet_df.groupby('Year').size()\n",
    "\n",
    "year_observation"
   ]
  },
  {
   "cell_type": "markdown",
   "id": "ecffebb9-feae-47bd-82c2-00f8b95ed5ec",
   "metadata": {
    "jp-MarkdownHeadingCollapsed": true
   },
   "source": [
    "# 17. What is the first year to have a non-zero internet users percentage value?"
   ]
  },
  {
   "cell_type": "code",
   "execution_count": null,
   "id": "c8f3e1d0-f217-4690-8bcc-490365c17f22",
   "metadata": {
    "scrolled": true
   },
   "outputs": [],
   "source": [
    "internet_df['Internet_Users_Pct'] = pd.to_numeric(internet_df['Internet_Users_Pct']) # Work in progress"
   ]
  },
  {
   "cell_type": "code",
   "execution_count": null,
   "id": "cff01aea-908e-4887-b972-d36bf929884a",
   "metadata": {
    "scrolled": true
   },
   "outputs": [],
   "source": [
    "no_zero = internet_df[internet_df['Internet_Users_Pct'] > 0].sort_values('year').iloc[0] # Work in progress\n",
    "\n",
    "no_zero"
   ]
  },
  {
   "cell_type": "code",
   "execution_count": null,
   "id": "0950f56d-dd74-4e9f-bc14-dda08d79bf3c",
   "metadata": {},
   "outputs": [],
   "source": []
  },
  {
   "cell_type": "markdown",
   "id": "ffffbf0b-9f31-4463-b541-4210cc4c777f",
   "metadata": {
    "jp-MarkdownHeadingCollapsed": true
   },
   "source": [
    "# 18. How does the distribution of internet users percent differ for 2000 and 2014?"
   ]
  },
  {
   "cell_type": "code",
   "execution_count": null,
   "id": "b56adcdb-e84f-4d2b-b06b-5270909fb064",
   "metadata": {},
   "outputs": [],
   "source": [
    "i2000 = internet_df[internet_df['Year'] == 2000] # Work in progress\n",
    "i2014 = internet_df[internet_df['Year'] == 2014]"
   ]
  },
  {
   "cell_type": "code",
   "execution_count": null,
   "id": "c1eb5050-c505-4192-818f-143ebc38ea7c",
   "metadata": {},
   "outputs": [],
   "source": [
    "i2000"
   ]
  },
  {
   "cell_type": "markdown",
   "id": "603ed983-d5fa-43b1-a67b-dfa614e34c9d",
   "metadata": {},
   "source": [
    "# 19. For how many countries was the percentage of internet users below 5% in 2014?"
   ]
  },
  {
   "cell_type": "code",
   "execution_count": null,
   "id": "b8a4f97e-db42-4dba-9a23-e97e2a635bd2",
   "metadata": {},
   "outputs": [],
   "source": []
  },
  {
   "cell_type": "markdown",
   "id": "4852689d-a190-4e92-9658-9b8257be6d17",
   "metadata": {},
   "source": [
    "# 20. Merge the two DataFrames to one. Do this in a way that keeps **all rows** from each of the two DataFrames. Call the new DataFrame `gdp_and_internet_use`. Look at the first and last few rows to confirm that it merged correctly."
   ]
  },
  {
   "cell_type": "code",
   "execution_count": null,
   "id": "609ded9d-25ca-48fc-bb26-5b18801a1c24",
   "metadata": {},
   "outputs": [],
   "source": []
  }
 ],
 "metadata": {
  "kernelspec": {
   "display_name": "Python 3 (ipykernel)",
   "language": "python",
   "name": "python3"
  },
  "language_info": {
   "codemirror_mode": {
    "name": "ipython",
    "version": 3
   },
   "file_extension": ".py",
   "mimetype": "text/x-python",
   "name": "python",
   "nbconvert_exporter": "python",
   "pygments_lexer": "ipython3",
   "version": "3.11.7"
  }
 },
 "nbformat": 4,
 "nbformat_minor": 5
}
